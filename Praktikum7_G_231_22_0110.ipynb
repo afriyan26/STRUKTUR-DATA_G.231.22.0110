{
  "nbformat": 4,
  "nbformat_minor": 0,
  "metadata": {
    "colab": {
      "provenance": []
    },
    "kernelspec": {
      "name": "python3",
      "display_name": "Python 3"
    },
    "language_info": {
      "name": "python"
    }
  },
  "cells": [
    {
      "cell_type": "markdown",
      "source": [
        "Inorder"
      ],
      "metadata": {
        "id": "E8tTToUeEUEQ"
      }
    },
    {
      "cell_type": "code",
      "execution_count": 6,
      "metadata": {
        "colab": {
          "base_uri": "https://localhost:8080/"
        },
        "id": "_2c69DPuEOK7",
        "outputId": "2be8ac8b-b7d2-4099-eafa-2be228ee79eb"
      },
      "outputs": [
        {
          "output_type": "stream",
          "name": "stdout",
          "text": [
            "\n",
            "Inorder traversal of binary tree is\n",
            "4\n",
            "2\n",
            "5\n",
            "1\n",
            "3\n"
          ]
        }
      ],
      "source": [
        "class Node:\n",
        "    def __init__(self, key):\n",
        "        self.left = None\n",
        "        self.right = None\n",
        "        self.val = key\n",
        "\n",
        "def printInorder(root):\n",
        "\n",
        "    if root:\n",
        "        #first recur on left child\n",
        "        printInorder(root.left)\n",
        "\n",
        "        #then print the data of node\n",
        "        print(root.val),\n",
        "\n",
        "        #new recur on right child\n",
        "        printInorder(root.right)\n",
        "\n",
        "# driver code\n",
        "if __name__ == \"__main__\":\n",
        "    root = Node(1)\n",
        "    root.left = Node(2)\n",
        "    root.right = Node(3)\n",
        "    root.left.left = Node(4)\n",
        "    root.left.right = Node(5)\n",
        "\n",
        "    #function call\n",
        "print(\"\\nInorder traversal of binary tree is\")\n",
        "printInorder(root)"
      ]
    },
    {
      "cell_type": "markdown",
      "source": [
        "Preorder"
      ],
      "metadata": {
        "id": "bNhem9eXG_bd"
      }
    },
    {
      "cell_type": "code",
      "source": [
        "class Node:\n",
        "    def __init__(self, key):\n",
        "        self.left = None\n",
        "        self.right = None\n",
        "        self.val = key\n",
        "\n",
        "def printPreorder(root):\n",
        "\n",
        "    if root:\n",
        "        print(root.val),\n",
        "        printPreorder(root.left)\n",
        "        printPreorder(root.right)\n",
        "\n",
        "if __name__ == \"__main__\":\n",
        "    root = Node(1)\n",
        "    root.left = Node(2)\n",
        "    root.right = Node(3)\n",
        "    root.left.left = Node(4)\n",
        "    root.left.right = Node(5)\n",
        "\n",
        "print (\"\\nPreorder traversal of binary tree is\")\n",
        "printPreorder(root)"
      ],
      "metadata": {
        "colab": {
          "base_uri": "https://localhost:8080/"
        },
        "id": "hsxSJqpnHBwR",
        "outputId": "7d5cfcac-3e69-4da1-bdf4-f3628336d6af"
      },
      "execution_count": 9,
      "outputs": [
        {
          "output_type": "stream",
          "name": "stdout",
          "text": [
            "\n",
            "Preorder traversal of binary tree is\n",
            "1\n",
            "2\n",
            "4\n",
            "5\n",
            "3\n"
          ]
        }
      ]
    },
    {
      "cell_type": "markdown",
      "source": [
        "Postorder"
      ],
      "metadata": {
        "id": "cy9BWtsXIqhd"
      }
    },
    {
      "cell_type": "code",
      "source": [
        "class Node:\n",
        "    def __init__(self, key):\n",
        "      self.left = None\n",
        "      self.right = None\n",
        "      self.val = key\n",
        "\n",
        "def printPostorder(root):\n",
        "\n",
        "    if root:\n",
        "        print(root.val),\n",
        "        printPostorder(root.left)\n",
        "        printPostorder(root.right)\n",
        "\n",
        "if __name__ == \"__main__\":\n",
        "    root = Node(1)\n",
        "    root.left = Node(2)\n",
        "    root.right = Node(3)\n",
        "    root.left.left = Node(4)\n",
        "    root.left.right = Node(5)\n",
        "\n",
        "print (\"\\nPostorder traversal of binary tree is\")\n",
        "printPostorder(root)"
      ],
      "metadata": {
        "colab": {
          "base_uri": "https://localhost:8080/"
        },
        "id": "dBQFGAEdIuE9",
        "outputId": "b25805f8-8551-425a-e4eb-92a525f51cb5"
      },
      "execution_count": 11,
      "outputs": [
        {
          "output_type": "stream",
          "name": "stdout",
          "text": [
            "\n",
            "Postorder traversal of binary tree is\n",
            "1\n",
            "2\n",
            "4\n",
            "5\n",
            "3\n"
          ]
        }
      ]
    }
  ]
}