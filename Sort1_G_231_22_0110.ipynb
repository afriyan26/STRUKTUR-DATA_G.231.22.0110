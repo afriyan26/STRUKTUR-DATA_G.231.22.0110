{
  "nbformat": 4,
  "nbformat_minor": 0,
  "metadata": {
    "colab": {
      "provenance": []
    },
    "kernelspec": {
      "name": "python3",
      "display_name": "Python 3"
    },
    "language_info": {
      "name": "python"
    }
  },
  "cells": [
    {
      "cell_type": "markdown",
      "source": [
        "BubbleSort"
      ],
      "metadata": {
        "id": "4WOKcGLZxomN"
      }
    },
    {
      "cell_type": "code",
      "execution_count": null,
      "metadata": {
        "colab": {
          "base_uri": "https://localhost:8080/"
        },
        "id": "od4-eX8UqUPx",
        "outputId": "0f8802ed-3251-4641-9137-57f61f40de43"
      },
      "outputs": [
        {
          "output_type": "stream",
          "name": "stdout",
          "text": [
            "Array setelah diurutkan:\n",
            " 11  12  22  25  34  64  90 "
          ]
        }
      ],
      "source": [
        "def bubbleSort(arr):\n",
        "    n = len(arr)\n",
        "    #set flag untuk menentukan apakah ada pertukaran elemen selama satu iterasi\n",
        "    swapped = False\n",
        "\n",
        "    for i in range(n-1):\n",
        "      #loop untuk melakukan pertukaran elemen\n",
        "        for j in range(0, n-i-1):\n",
        "            if arr[j] > arr[j + 1]:\n",
        "              swapped = True\n",
        "              #pertukaran elemen\n",
        "              arr[j], arr[j + 1] = arr[j + 1], arr[j]\n",
        "        #jika tidak ada pertukaran elemen, array sudah terurut dan dapat keluar dari loop\n",
        "        if not swapped:\n",
        "            break\n",
        "\n",
        "# contoh penggunaan\n",
        "arr = [64, 34, 25, 12, 22, 11, 90]\n",
        "\n",
        "bubbleSort(arr)\n",
        "\n",
        "print(\"Array setelah diurutkan:\")\n",
        "for i in range(len(arr)):\n",
        "    print(\"% d\" % arr[i], end=\" \")\n"
      ]
    },
    {
      "cell_type": "code",
      "source": [
        "import sys\n",
        "A = [64, 25, 12, 23, 11, 10]\n",
        "\n",
        "for i in range(len(A)):\n",
        "    # Temukan indeks elemen terkecil di sisa array yang belum diurutkan\n",
        "    min_idx = i\n",
        "    for j in range(i+1, len(A)):\n",
        "        if A[min_idx] > A[j]:\n",
        "            min_idx = j\n",
        "    # Tukar elemen terkecil dengan elemen pertama di sisa array yang belum diurutkan\n",
        "    A[i], A[min_idx] = A[min_idx], A[i]\n",
        "\n",
        "print (\"Array setelah diurutkan:\")\n",
        "for i in range(len(A)):\n",
        "    print(\"%d\" %A[i],end=\" \")"
      ],
      "metadata": {
        "colab": {
          "base_uri": "https://localhost:8080/"
        },
        "id": "S2zOCt6Zsu2W",
        "outputId": "452e1b57-f3eb-436c-8724-dac419d048aa"
      },
      "execution_count": null,
      "outputs": [
        {
          "output_type": "stream",
          "name": "stdout",
          "text": [
            "Array setelah diurutkan:\n",
            "10 11 12 23 25 64 "
          ]
        }
      ]
    },
    {
      "cell_type": "code",
      "source": [
        "def insertionSort(arr):\n",
        "        for i in range(1, len(arr)):\n",
        "          key = arr[i]\n",
        "\n",
        "          # Pindahkan elemen-elemen yang lebih besar dari key ke posisi yang lebih kanan\n",
        "          j = i-1\n",
        "          while j >= 0 and key < arr[j] :\n",
        "              arr[j + 1] = arr[j]\n",
        "              j -= 1\n",
        "\n",
        "          # Tempatkan key pada posisi yang tepat\n",
        "          arr[j + 1] = key\n",
        "\n",
        "# contoh penggunaan\n",
        "arr = [12, 11, 13, 5, 6]\n",
        "insertionSort(arr)\n",
        "print (\"Array setelah diurutkan:\")\n",
        "for i in range(len(arr)):\n",
        "    print (\"% d\" % arr[i])"
      ],
      "metadata": {
        "colab": {
          "base_uri": "https://localhost:8080/"
        },
        "id": "A9Alhm0tukbX",
        "outputId": "37c316f5-9fb8-4f04-ae5b-8fcc8da8e8e6"
      },
      "execution_count": null,
      "outputs": [
        {
          "output_type": "stream",
          "name": "stdout",
          "text": [
            "Array setelah diurutkan:\n",
            " 5\n",
            " 6\n",
            " 11\n",
            " 12\n",
            " 13\n"
          ]
        }
      ]
    }
  ]
}