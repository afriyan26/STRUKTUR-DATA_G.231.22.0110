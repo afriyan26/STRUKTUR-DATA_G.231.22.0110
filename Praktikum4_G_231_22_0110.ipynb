{
  "nbformat": 4,
  "nbformat_minor": 0,
  "metadata": {
    "colab": {
      "provenance": []
    },
    "kernelspec": {
      "name": "python3",
      "display_name": "Python 3"
    },
    "language_info": {
      "name": "python"
    }
  },
  "cells": [
    {
      "cell_type": "code",
      "execution_count": 4,
      "metadata": {
        "colab": {
          "base_uri": "https://localhost:8080/"
        },
        "id": "fV0C15Ztl1rF",
        "outputId": "71e0312d-e167-4241-9dad-f318a4079ccf"
      },
      "outputs": [
        {
          "output_type": "stream",
          "name": "stdout",
          "text": [
            "\"Pack my box with five dozen liquor jugs\"\n",
            "\n",
            "Kalimat ini adalah Pangram\n"
          ]
        }
      ],
      "source": [
        "# Program Python untuk memeriksa apakah diberikan\n",
        "# string adalah pangram atau tidak\n",
        "def checkPangram(s):\n",
        "    List = []\n",
        "# Buat daftar 26 karakter dan atur false setiap entri\n",
        "    for x in range(26):\n",
        "        List.append(False)\n",
        "# mengubah kalimat menjadi huruf kecil dan mengulangi\n",
        "# di atas kalimat\n",
        "    for y in s.lower():\n",
        "        if not y == \" \":\n",
        "# membuat entri yang sesuai True\n",
        "            List[ord(y) - ord('a')] = True\n",
        "# periksa apakah ada karakter yang hilang lalu kembalikan False\n",
        "    for z in List:\n",
        "        if z == False:\n",
        "            return False\n",
        "    return True\n",
        "# Program Driver untuk menguji fungsi-fungsi di atas\n",
        "sentence = \"Pack my box with five dozen liquor jugs\"\n",
        "if (checkPangram(sentence)):\n",
        "    print('\"'+sentence+'\"')\n",
        "    print(\"\\nKalimat ini adalah Pangram\")\n",
        "else:\n",
        "    print('\"'+sentence+'\"')\n",
        "    print(\"\\nKalimat ini bukan Pangram\")"
      ]
    }
  ]
}