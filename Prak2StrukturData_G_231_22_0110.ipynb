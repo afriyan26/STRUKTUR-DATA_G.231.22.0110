{
  "nbformat": 4,
  "nbformat_minor": 0,
  "metadata": {
    "colab": {
      "provenance": []
    },
    "kernelspec": {
      "name": "python3",
      "display_name": "Python 3"
    },
    "language_info": {
      "name": "python"
    }
  },
  "cells": [
    {
      "cell_type": "code",
      "execution_count": 1,
      "metadata": {
        "colab": {
          "base_uri": "https://localhost:8080/"
        },
        "id": "S08RPb7P70X7",
        "outputId": "9e875532-0df0-4a0a-a606-e12c2742525a"
      },
      "outputs": [
        {
          "output_type": "stream",
          "name": "stdout",
          "text": [
            "apel\n",
            "jeruk\n"
          ]
        }
      ],
      "source": [
        "#Membuat sebuah Tuple\n",
        "buah = ('apel','jeruk','pisang','anggur')\n",
        "\n",
        "#Mengakses elemen Tuple\n",
        "print(buah[0]) #Output: 'apel'\n",
        "print(buah[1]) #Output: 'jeruk'\n",
        "\n",
        "#Tupple bersifat tidak dapat diubah (immutable)\n",
        "#Jika mencoba mengubah elemen Tuple, akan muncuk error\n",
        "#buah[0] = 'mangga' #Ini akan menghasilkan TypeError"
      ]
    },
    {
      "cell_type": "code",
      "source": [
        "#Membuat sebuah Dictionary\n",
        "data_mahasiswa = {\n",
        "    'nim': 'G.231.22.0110',\n",
        "    'nama': 'Afriyan Kuncoro',\n",
        "    'jurusan': 'Teknik Informatika',\n",
        "    'semester': 3\n",
        "}\n",
        "\n",
        "#Mengakses nilai dalam Dictionary\n",
        "print(data_mahasiswa['nim'])  #Output: 'G.231.22.0110'\n",
        "print(data_mahasiswa['nama']) #Output: 'Afriyan Kuncoro'\n",
        "\n",
        "#Menambahkan elemen baru ke Dictionary\n",
        "data_mahasiswa['ipk'] = 3.95\n",
        "\n",
        "#Mengubah nilai dalam Dictionary\n",
        "data_mahasiswa['semester'] = 3\n",
        "\n",
        "#Menghapus elemen dari Dictionary\n",
        "del data_mahasiswa['jurusan']\n",
        "\n",
        "#iterasi melalui semua kunci dalam Dictionary\n",
        "for key in data_mahasiswa:\n",
        "    print(key,':', data_mahasiswa[key])\n",
        "\n",
        "#iterasi melelui semua nilai dalam Dictionary\n",
        "for value in data_mahasiswa.values():\n",
        "  print(value)\n",
        "\n",
        "#iterasi melalui semua pasangan kunci dan nilai dalam Dictionary\n",
        "for key, value in data_mahasiswa.items():\n",
        "    print(key, ':', value)"
      ],
      "metadata": {
        "colab": {
          "base_uri": "https://localhost:8080/"
        },
        "id": "BoWsuCRq8dzq",
        "outputId": "6f8dbd03-8592-4d19-95bb-3f8a2f0e235b"
      },
      "execution_count": 2,
      "outputs": [
        {
          "output_type": "stream",
          "name": "stdout",
          "text": [
            "G.231.22.0110\n",
            "Afriyan Kuncoro\n",
            "nim : G.231.22.0110\n",
            "nama : Afriyan Kuncoro\n",
            "semester : 3\n",
            "ipk : 3.95\n",
            "G.231.22.0110\n",
            "Afriyan Kuncoro\n",
            "3\n",
            "3.95\n",
            "nim : G.231.22.0110\n",
            "nama : Afriyan Kuncoro\n",
            "semester : 3\n",
            "ipk : 3.95\n"
          ]
        }
      ]
    },
    {
      "cell_type": "markdown",
      "source": [
        "ALGORITMA"
      ],
      "metadata": {
        "id": "jfHu2oWK9nIm"
      }
    },
    {
      "cell_type": "code",
      "source": [
        "#Menggunakan contoh data yang berbeda\n",
        "alist = [8,4,7,1,3,6,5,2]\n",
        "\n",
        "for slot in range(len(alist) - 1):\n",
        "    position = slot\n",
        "    for location in range(slot + 1, len(alist)):\n",
        "        if alist[location] < alist[position]:\n",
        "            position = location\n",
        "\n",
        "#Menyimpan nilai yang akan ditukar\n",
        "    temp = alist[slot]\n",
        "    alist[slot] = alist[position]\n",
        "    alist[position] = temp\n",
        "\n",
        "#Setelah sorting, cetak list hasil\n",
        "print(\"List setelah diurutkan:\", alist)"
      ],
      "metadata": {
        "colab": {
          "base_uri": "https://localhost:8080/"
        },
        "id": "R697xHgH80vC",
        "outputId": "9b21a5b8-1fd1-42af-8a69-d6890a0e0938"
      },
      "execution_count": 3,
      "outputs": [
        {
          "output_type": "stream",
          "name": "stdout",
          "text": [
            "List setelah diurutkan: [1, 2, 3, 4, 5, 6, 7, 8]\n"
          ]
        }
      ]
    },
    {
      "cell_type": "markdown",
      "source": [
        "KODE PROGRAM"
      ],
      "metadata": {
        "id": "0fduaYi49pja"
      }
    },
    {
      "cell_type": "code",
      "source": [
        "def selectionSort(alist):\n",
        "    for slot in range(0, len(alist) - 1):\n",
        "        position = slot\n",
        "        for location in range(slot + 1, len(alist)):\n",
        "            if alist[location] < alist[position]:\n",
        "              position = location\n",
        "        temp = alist[slot]\n",
        "        alist[slot] = alist[position]\n",
        "        alist[position] = temp\n",
        "        print(alist)\n",
        "\n",
        "#Mengunakan contoh data yang berbeda\n",
        "angka = [12,45,2,41,7,5,22]\n",
        "selectionSort(angka)\n",
        "print(\"List setelah diurutkan:\", angka)"
      ],
      "metadata": {
        "colab": {
          "base_uri": "https://localhost:8080/"
        },
        "id": "zKvmZaY284iI",
        "outputId": "f163dbe7-1011-41a6-eb25-794cbc203571"
      },
      "execution_count": 4,
      "outputs": [
        {
          "output_type": "stream",
          "name": "stdout",
          "text": [
            "[2, 45, 12, 41, 7, 5, 22]\n",
            "[2, 5, 12, 41, 7, 45, 22]\n",
            "[2, 5, 7, 41, 12, 45, 22]\n",
            "[2, 5, 7, 12, 41, 45, 22]\n",
            "[2, 5, 7, 12, 22, 45, 41]\n",
            "[2, 5, 7, 12, 22, 41, 45]\n",
            "List setelah diurutkan: [2, 5, 7, 12, 22, 41, 45]\n"
          ]
        }
      ]
    }
  ]
}