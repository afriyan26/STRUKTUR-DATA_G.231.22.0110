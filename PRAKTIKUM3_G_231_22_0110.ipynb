{
  "nbformat": 4,
  "nbformat_minor": 0,
  "metadata": {
    "colab": {
      "provenance": []
    },
    "kernelspec": {
      "name": "python3",
      "display_name": "Python 3"
    },
    "language_info": {
      "name": "python"
    }
  },
  "cells": [
    {
      "cell_type": "code",
      "execution_count": 1,
      "metadata": {
        "colab": {
          "base_uri": "https://localhost:8080/"
        },
        "id": "3KBMUKaJXYDV",
        "outputId": "af035924-d181-428c-f30f-7379f9d932b7"
      },
      "outputs": [
        {
          "output_type": "stream",
          "name": "stdout",
          "text": [
            "progamming\n"
          ]
        }
      ],
      "source": [
        "def convert_to_string(input_list):\n",
        "  #menggabungkan karakter dalam daftar menjadi satu string\n",
        "  output_string =''.join(input_list)\n",
        "  return output_string\n",
        "\n",
        "input_list = ['p', 'r', 'o', 'g', 'a', 'm', 'm', 'i', 'n', 'g']\n",
        "\n",
        "#konversi dan mencetak output\n",
        "output_string = convert_to_string(input_list)\n",
        "print(output_string)"
      ]
    }
  ]
}